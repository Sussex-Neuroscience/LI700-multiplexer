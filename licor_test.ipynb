{
 "cells": [
  {
   "cell_type": "code",
   "execution_count": 1,
   "id": "66e18b80",
   "metadata": {},
   "outputs": [],
   "source": [
    "import serial"
   ]
  },
  {
   "cell_type": "code",
   "execution_count": 2,
   "id": "0c0e82ac",
   "metadata": {},
   "outputs": [
    {
     "data": {
      "text/plain": [
       "'Licor serial comm is done with 9600 baud, 8 data bits, no parity, 1 stop bit (9600 N 8 1) configured as a DTE device\\n- XOFF (0x13) indicates full input buffer\\n- XON (0x11) when input buffer is free again\\ncommands ARE case sensitive\\ncommands start with \"(\" and must end with \")\"\\nline feed character (decimal 10 <lf>) must follow commmands send to the analyzer\\n'"
      ]
     },
     "execution_count": 2,
     "metadata": {},
     "output_type": "execute_result"
    }
   ],
   "source": [
    "\"\"\"Licor serial comm is done with 9600 baud, 8 data bits, no parity, 1 stop bit (9600 N 8 1) configured as a DTE device\n",
    "- XOFF (0x13) indicates full input buffer\n",
    "- XON (0x11) when input buffer is free again\n",
    "commands ARE case sensitive\n",
    "commands start with \"(\" and must end with \")\"\n",
    "line feed character (decimal 10 <lf>) must follow commmands send to the analyzer\n",
    "\"\"\"\n",
    "\n"
   ]
  },
  {
   "cell_type": "code",
   "execution_count": 3,
   "id": "9866731f",
   "metadata": {},
   "outputs": [
    {
     "name": "stdout",
     "output_type": "stream",
     "text": [
      "COM1\n"
     ]
    }
   ],
   "source": [
    "ser = serial.Serial('COM1',\n",
    "                    baudrate=9600,\n",
    "                   parity=serial.PARITY_NONE,\n",
    "                   stopbits=serial.STOPBITS_ONE) \n",
    "\n",
    "#parity=serial.PARITY_EVEN,# open serial port\n",
    "print(ser.name)         # check which port was really used"
   ]
  },
  {
   "cell_type": "code",
   "execution_count": 4,
   "id": "96848e31",
   "metadata": {
    "scrolled": true
   },
   "outputs": [
    {
     "data": {
      "text/plain": [
       "5"
      ]
     },
     "execution_count": 4,
     "metadata": {},
     "output_type": "execute_result"
    }
   ],
   "source": [
    "ser.write(\")<lf>\".encode())"
   ]
  },
  {
   "cell_type": "code",
   "execution_count": 5,
   "id": "0798a895",
   "metadata": {},
   "outputs": [
    {
     "data": {
      "text/plain": [
       "b'\\xdb\\xa1\\x01R\\xa0Ar\\x13\\x10B\\x1b\\x04\\x00\\xf9\\x97\\xa0c@K\\x0b\\x88\\x8a0\\xbd0\\xb1!\\xf9W \\tC2\\r1BB@B\\x02\\t\\xfe\\x18\\xa08C\\x12\\x8d1BB@B\\x02\\t\\xfe\\xd7\\xa0SJ\\x86\\x8f\\xaa\\x00\\x87\\xc4\\x84\\x80\\t\\xcb\\x97 Z@O\\x80\\xd8\\xb9F1B\\x02\\r\\xfe\\xd7 c@N@B\\xc4\\x84\\xbdC@\\xc4\\xfe\\x97\\xa0s\\xa51\\x85\\x91CBHB\\x02\\x89\\xfc\\xd7\\xa0C@N\\x80\\xd4\\xb9\\x10B\\xc4\\xb1\\xa1\\xf9\\x97 S@K\\x0b\\x88\\x8a\\x84\\xbdC@\\xc4\\xfc\\xd7 9C2\\r1\\xb5k\\x08\\x02\\x0b\\x0e\\xff\\x97\\xa0\\x01R\\xa0Ar\\x13\\x102\\x1b\\x04\\x00\\xf9\\x1f )C\\x12\\x8d1BB@B\\x02N\\xfe\\x1f (C\\x84\\x019z%\\x10\\xd2\\x80\\x81\\xdb\\xa1\\x11RRR9z%\\x10\\xd2\\x80\\x01\\xdb\\xb1\\x11R\\xa0Ar\\x13\\x10:\\x1b\\x04\\x00\\xf9\\xd7\\xa0#BRR9z\\x08@B:j\\xff\\x97 C\\xa51C\\x1bzS\\xbdbb\\x84\\xe8\\x18 8C\\x18\\x1az=c\\x86\\x86\\x00\\x01\\xdb\\xb1\\x01RRR9z\\x08@B\\x1aj\\xff\\xd7\\xa0C@M\\x84\\xd8\\xb9!QB\"j\\xfc\\x18\\xa08C\\x84\\x019z\\x00@B\\x04\\x04\\xff\\xd7\\xa0\\x03BRR9zB@B\\x02\\t\\xfe\\x94\\xa08@K\\x84H\\xcc\\x94d\\x08\\x04B\\xfa\\xd7\\xa0R@K\\x04H\\x8c\\xc0\\x84\\x88\\xa5\\x11\\xe9\\x97 8@K\\x80H\\\\\\x10B\\xc4\\xb1!\\xf9\\xd7\\xa0CJ\\x86\\x8f\\xaa\\xa0\\n'"
      ]
     },
     "execution_count": 5,
     "metadata": {},
     "output_type": "execute_result"
    }
   ],
   "source": [
    "ser.readline()"
   ]
  },
  {
   "cell_type": "code",
   "execution_count": 11,
   "id": "7a9577d9",
   "metadata": {},
   "outputs": [],
   "source": [
    "ser.close()"
   ]
  },
  {
   "cell_type": "code",
   "execution_count": null,
   "id": "1bc4be44",
   "metadata": {},
   "outputs": [],
   "source": []
  }
 ],
 "metadata": {
  "kernelspec": {
   "display_name": "Python 3 (ipykernel)",
   "language": "python",
   "name": "python3"
  },
  "language_info": {
   "codemirror_mode": {
    "name": "ipython",
    "version": 3
   },
   "file_extension": ".py",
   "mimetype": "text/x-python",
   "name": "python",
   "nbconvert_exporter": "python",
   "pygments_lexer": "ipython3",
   "version": "3.9.7"
  }
 },
 "nbformat": 4,
 "nbformat_minor": 5
}
