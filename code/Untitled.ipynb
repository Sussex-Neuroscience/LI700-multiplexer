{
 "cells": [
  {
   "cell_type": "code",
   "execution_count": 1,
   "id": "57efa791-c534-4d2f-8913-c8b02e149d8e",
   "metadata": {},
   "outputs": [],
   "source": [
    "import class_li7000\n",
    "import time\n",
    "import serial\n"
   ]
  },
  {
   "cell_type": "code",
   "execution_count": 2,
   "id": "a19a2b32-07eb-4136-949c-55839b2cd374",
   "metadata": {},
   "outputs": [],
   "source": [
    "li7=class_li7000.li7000(port = \"COM1\", baudrate=115200,time=1)"
   ]
  },
  {
   "cell_type": "code",
   "execution_count": 3,
   "id": "c6cb32ec-764a-4bdc-b244-b4cc15465385",
   "metadata": {},
   "outputs": [
    {
     "name": "stdout",
     "output_type": "stream",
     "text": [
      "b'DATAM\\t19362231\\t-2.46\\t32132.24\\t0\\t0.0003\\t1.69\\t0\\t0.0006\\t4.69\\t0.5398\\t-0.367\\t12681010\\t-0.00127\\t-3.66\\t-0.367\\t13476799\\t-0.00126\\t-3.65\\t0.001\\t0.01\\t-0.0001\\t-3.16\\t-0.0003\\t-6.06\\t0.0002\\t0.48\\t0.0001\\t-0.76\\t0\\t0.0109\\t137.38\\t0.5898\\t12399706\\t-0.00024\\t-273.15\\t-0.0021\\t-0.021\\t13498974\\t-0.00024\\t-273.15\\t-0.0022\\t-0.022\\t0.00\\t-0.0000\\t-0.000\\t0\\t1.3424\\t17252.03\\t100.345\\t0\\t1.97\\t0.8612\\t11067.31\\t21.459\\t-0.2084\\t-2680.78\\n'\n"
     ]
    }
   ],
   "source": [
    "print(li7.li7000_header())"
   ]
  },
  {
   "cell_type": "code",
   "execution_count": 5,
   "id": "5ba91f68-4e73-49f3-a4d2-f39986b0499b",
   "metadata": {},
   "outputs": [],
   "source": [
    "#instrumentHeader = li7.li7000_header()\n",
    "#dataHeader = li7.li7000_pollnow()\n",
    "#initData = li7.li7000_pollnow()\n"
   ]
  },
  {
   "cell_type": "code",
   "execution_count": 6,
   "id": "56ad0061-813f-4fa9-9f62-b40d2a122c62",
   "metadata": {},
   "outputs": [
    {
     "data": {
      "text/plain": [
       "\u001b[1;31mInit signature:\u001b[0m \u001b[0mserial\u001b[0m\u001b[1;33m.\u001b[0m\u001b[0mSerial\u001b[0m\u001b[1;33m(\u001b[0m\u001b[1;33m*\u001b[0m\u001b[0margs\u001b[0m\u001b[1;33m,\u001b[0m \u001b[1;33m**\u001b[0m\u001b[0mkwargs\u001b[0m\u001b[1;33m)\u001b[0m\u001b[1;33m\u001b[0m\u001b[1;33m\u001b[0m\u001b[0m\n",
       "\u001b[1;31mDocstring:\u001b[0m      Serial port implementation for Win32 based on ctypes.\n",
       "\u001b[1;31mInit docstring:\u001b[0m\n",
       "Initialize comm port object. If a \"port\" is given, then the port will be\n",
       "opened immediately. Otherwise a Serial port object in closed state\n",
       "is returned.\n",
       "\u001b[1;31mFile:\u001b[0m           c:\\programdata\\miniconda3\\lib\\site-packages\\serial\\serialwin32.py\n",
       "\u001b[1;31mType:\u001b[0m           ABCMeta\n",
       "\u001b[1;31mSubclasses:\u001b[0m     \n"
      ]
     },
     "metadata": {},
     "output_type": "display_data"
    }
   ],
   "source": [
    "serial.Serial?"
   ]
  },
  {
   "cell_type": "markdown",
   "id": "0e84e016-56a3-4beb-bf70-924d0f73d0c9",
   "metadata": {},
   "source": [
    "One experimental pipeline for testing the software:  \n",
    "\n",
    "Cell A which is sample  \n",
    "Cell B is control  \n",
    "  \n",
    "1- Calibration (so that A is zero) water  \n",
    "2- Make A and B equal water  \n",
    "3- Calibration (so that A is zero) co2  \n",
    "4- Make A and B equal co2  \n",
    "5- Start recording (two samples per second – give users an option)  \n",
    "6- Open chamber, put animal in, close chamber  \n",
    "7- If movement is being tracked, start timer with to synch recording to chamber measurements  \n",
    "8- Recordings last 30 min  \n",
    "  \n",
    "Each sample should contain  \n",
    "Licor temperature, co2, water for both chambers (check getting the difference from both chambers as well, or calculated via software afterwards)  "
   ]
  },
  {
   "cell_type": "code",
   "execution_count": 28,
   "id": "1538859a-6cac-44a1-a6d1-98549bd7d60c",
   "metadata": {},
   "outputs": [],
   "source": [
    "### calibration of H2O and CO2\n",
    "\n",
    "#zero water cell A\n",
    "li7.li7000_zeroh2o(span_interval=0.1)#span interval in minutes\n",
    "#match  cell b equal to cell A\n",
    "li7.li7000_matchH2O()\n",
    "#get result of calibration\n",
    "h20Cal=li7.li7000_h20calresult()\n",
    "\n",
    "\n",
    "#zero c02 water cell A\n",
    "li7.li7000_zeroco2(span_interval = 0.1)\n",
    "#match cell B to cell A\n",
    "li7.li7000_matchCO2()\n",
    "#get result of calibration\n",
    "CO2Cal=li7.li7000_co2calresult()\n",
    "\n"
   ]
  },
  {
   "cell_type": "code",
   "execution_count": 27,
   "id": "04b32773-a410-41ee-92bb-ef64d8e2f3f2",
   "metadata": {},
   "outputs": [
    {
     "data": {
      "text/plain": [
       "'0\\t0.0004\\t2.73\\t0\\t0.0006\\t4.96\\t0.5398\\t-0.337\\t12679675\\t-0.00116\\t-3.36\\t-0.333\\t13475206\\t-0.00115\\t-3.32\\t0.004\\t0.04\\t-0.0001\\t-3.74\\t-0.0003\\t-5.76\\t0.0002\\t0.40\\t0.0001\\t-0.96\\t0\\t0.0108\\t136.91\\t0.5898\\t12397347\\t-0.00005\\t-273.15\\t-0.0004\\t-0.004\\t13496193\\t-0.00005\\t-273.15\\t-0.0005\\t-0.005\\t0.00\\t-0.0001\\t-0.001\\t0\\t1.3421\\t17248.25\\t100.336\\t0\\t1.97\\t0.8610\\t11064.47\\t21.471\\t-0.2076\\t-2670.78\\n'"
      ]
     },
     "execution_count": 27,
     "metadata": {},
     "output_type": "execute_result"
    }
   ],
   "source": [
    "CO2Cal.decode()#.split(\"\\t\")"
   ]
  },
  {
   "cell_type": "code",
   "execution_count": 29,
   "id": "bcab5c89-fab3-43d4-b1ac-9301f97a937c",
   "metadata": {},
   "outputs": [
    {
     "data": {
      "text/plain": [
       "b'\\n'"
      ]
     },
     "execution_count": 29,
     "metadata": {},
     "output_type": "execute_result"
    }
   ],
   "source": [
    "init_data"
   ]
  },
  {
   "cell_type": "code",
   "execution_count": null,
   "id": "f048602c-0fa2-4d66-8c32-c64864930f5c",
   "metadata": {},
   "outputs": [],
   "source": []
  }
 ],
 "metadata": {
  "kernelspec": {
   "display_name": "Python 3 (ipykernel)",
   "language": "python",
   "name": "python3"
  },
  "language_info": {
   "codemirror_mode": {
    "name": "ipython",
    "version": 3
   },
   "file_extension": ".py",
   "mimetype": "text/x-python",
   "name": "python",
   "nbconvert_exporter": "python",
   "pygments_lexer": "ipython3",
   "version": "3.9.12"
  }
 },
 "nbformat": 4,
 "nbformat_minor": 5
}
